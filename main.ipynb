{
 "cells": [
  {
   "cell_type": "code",
   "execution_count": 63,
   "id": "6684076b-1885-45a1-ac63-ba94e950f972",
   "metadata": {},
   "outputs": [
    {
     "name": "stdout",
     "output_type": "stream",
     "text": [
      "0 2 1 2 0  > 0 0 1 2 2 \n"
     ]
    }
   ],
   "source": [
    "class Solution:\n",
    "    \"\"\" Sorts an array of numbers \"\"\"\n",
    "    def sort012(self, arr):\n",
    "        unsorted = arr[:]\n",
    "        sorted = []\n",
    "\n",
    "        # First find the smallest element.\n",
    "        smallest_number = unsorted[0]\n",
    "        smallest_number_index = 0\n",
    "        index = 0\n",
    "        for number in unsorted:\n",
    "            if number < smallest_number:\n",
    "                smallest_number = number\n",
    "                smallest_number_index = index\n",
    "            index += 1\n",
    "        # Pop the smallest number and stick it into sorted.\n",
    "        sorted.append(unsorted.pop(smallest_number_index))\n",
    "        \n",
    "        # Loop through unsorted until empty\n",
    "        # Check to see if it is greater than or equal to the last item in sorted list.\n",
    "        # Go through the unsorted list.\n",
    "        for index in range(len(unsorted)):\n",
    "            # Find a spot to place item from unsorted list to sorted list.\n",
    "            for index2 in range(len(sorted)-1, -1, -1):\n",
    "                if unsorted[index] >= sorted[index2]:\n",
    "                    sorted.insert(index2 + 1, unsorted[index])\n",
    "                    break\n",
    "                   \n",
    "        return sorted\n",
    "    \n",
    "    \"\"\" Removes ['',] from list. EXAMPLE: [1, 2, 3] turns to 1 2 3 \"\"\"\n",
    "    def pretty(self, arr):\n",
    "        \n",
    "        pretty_text = \"\"\n",
    "        for element in arr:\n",
    "            pretty_text += str(element) + ' '\n",
    "        \n",
    "        return pretty_text\n",
    "        \n",
    "\n",
    "solution = Solution()\n",
    "\n",
    "# Create the unsorted array\n",
    "array = [0, 2, 1, 2, 0]\n",
    "array_pretty = solution.pretty(array)\n",
    "\n",
    "# Sort the array\n",
    "sorted_array = solution.sort012(array)\n",
    "\n",
    "print(array_pretty, '>', solution.pretty(sorted_array))"
   ]
  }
 ],
 "metadata": {
  "kernelspec": {
   "display_name": "Python 3 (ipykernel)",
   "language": "python",
   "name": "python3"
  },
  "language_info": {
   "codemirror_mode": {
    "name": "ipython",
    "version": 3
   },
   "file_extension": ".py",
   "mimetype": "text/x-python",
   "name": "python",
   "nbconvert_exporter": "python",
   "pygments_lexer": "ipython3",
   "version": "3.12.4"
  }
 },
 "nbformat": 4,
 "nbformat_minor": 5
}
