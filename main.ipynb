{
 "cells": [
  {
   "cell_type": "markdown",
   "id": "4c672b18-e54f-4157-90c1-f2e870171ad9",
   "metadata": {},
   "source": [
    "# OOP Programming"
   ]
  },
  {
   "cell_type": "code",
   "execution_count": 64,
   "id": "6684076b-1885-45a1-ac63-ba94e950f972",
   "metadata": {},
   "outputs": [
    {
     "name": "stdout",
     "output_type": "stream",
     "text": [
      "0 2 1 2 0  > 0 0 1 2 2 \n"
     ]
    }
   ],
   "source": [
    "class Solution:\n",
    "    \"\"\" Sorts an array of numbers \"\"\"\n",
    "    def sort012(self, arr):\n",
    "        unsorted = arr[:]\n",
    "        sorted = []\n",
    "\n",
    "        # First find the smallest element.\n",
    "        smallest_number = unsorted[0]\n",
    "        smallest_number_index = 0\n",
    "        index = 0\n",
    "        for number in unsorted:\n",
    "            if number < smallest_number:\n",
    "                smallest_number = number\n",
    "                smallest_number_index = index\n",
    "            index += 1\n",
    "        # Pop the smallest number and stick it into sorted.\n",
    "        sorted.append(unsorted.pop(smallest_number_index))\n",
    "        \n",
    "        # Loop through unsorted until empty\n",
    "        # Check to see if it is greater than or equal to the last item in sorted list.\n",
    "        # Go through the unsorted list.\n",
    "        for index in range(len(unsorted)):\n",
    "            # Find a spot to place item from unsorted list to sorted list.\n",
    "            for index2 in range(len(sorted)-1, -1, -1):\n",
    "                if unsorted[index] >= sorted[index2]:\n",
    "                    sorted.insert(index2 + 1, unsorted[index])\n",
    "                    break\n",
    "                   \n",
    "        return sorted\n",
    "    \n",
    "    \"\"\" Removes ['',] from list. EXAMPLE: [1, 2, 3] turns to 1 2 3 \"\"\"\n",
    "    def pretty(self, arr):\n",
    "        \n",
    "        pretty_text = \"\"\n",
    "        for element in arr:\n",
    "            pretty_text += str(element) + ' '\n",
    "        \n",
    "        return pretty_text\n",
    "        \n",
    "\n",
    "solution = Solution()\n",
    "\n",
    "# Create the unsorted array\n",
    "array = [0, 2, 1, 2, 0]\n",
    "array_pretty = solution.pretty(array)\n",
    "\n",
    "# Sort the array\n",
    "sorted_array = solution.sort012(array)\n",
    "\n",
    "print(array_pretty, '>', solution.pretty(sorted_array))"
   ]
  },
  {
   "cell_type": "markdown",
   "id": "ef99aafb-5a17-4f93-a034-d6cd70910002",
   "metadata": {},
   "source": [
    "# Functional Programming"
   ]
  },
  {
   "cell_type": "code",
   "execution_count": 30,
   "id": "c67325aa-61c4-4ca6-b2e1-effac8939ec9",
   "metadata": {},
   "outputs": [
    {
     "name": "stdout",
     "output_type": "stream",
     "text": [
      "The index for 21 is 6\n"
     ]
    }
   ],
   "source": [
    "\"\"\" Returns the index of the number your searching for. \"\"\"\n",
    "def binarySearch(array, search):\n",
    "    # What is at index 2.\n",
    "    high = len(array)\n",
    "    mid = (len(array)) // 2\n",
    "    low = 0\n",
    "    # If the search goes on longer than the list's length // 2 then\n",
    "    # it is not in the list.\n",
    "    for timesRan in range((len(array) + 1) // 2):\n",
    "         if search > array[mid]:\n",
    "            # Go right\n",
    "            low = mid\n",
    "            mid = (mid + high) // 2\n",
    "         elif search < array[mid]:\n",
    "            # Go left\n",
    "            high = mid\n",
    "            mid = (low + mid) // 2\n",
    "         else:\n",
    "            # FOUND IT!\n",
    "            return mid\n",
    "    # Does not exist.\n",
    "    return None\n",
    "\n",
    "\n",
    "search_for = 21\n",
    "numbers = [1, 2, 3, 4, 5, 6, 21]\n",
    "index = binarySearch(numbers, search_for)\n",
    "print(f\"The index for {search_for} is\", index)"
   ]
  },
  {
   "cell_type": "code",
   "execution_count": null,
   "id": "6de03db6-1fc7-42b3-b673-ba469b38e698",
   "metadata": {},
   "outputs": [],
   "source": []
  }
 ],
 "metadata": {
  "kernelspec": {
   "display_name": "Python 3 (ipykernel)",
   "language": "python",
   "name": "python3"
  },
  "language_info": {
   "codemirror_mode": {
    "name": "ipython",
    "version": 3
   },
   "file_extension": ".py",
   "mimetype": "text/x-python",
   "name": "python",
   "nbconvert_exporter": "python",
   "pygments_lexer": "ipython3",
   "version": "3.12.4"
  }
 },
 "nbformat": 4,
 "nbformat_minor": 5
}
